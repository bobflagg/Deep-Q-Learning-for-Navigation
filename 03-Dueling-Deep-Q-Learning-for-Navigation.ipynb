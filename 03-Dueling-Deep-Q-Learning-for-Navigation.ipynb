{
 "cells": [
  {
   "cell_type": "markdown",
   "metadata": {},
   "source": [
    "# 3. Dueling Deep Q-Learning for Navigation\n",
    "\n",
    "In \n",
    "this notebook I will give a third solution to the [Unity ML Banana-Collector environment](https://github.com/Unity-Technologies/ml-agents/blob/master/docs/Learning-Environment-Examples.md#banana-collector) using [Doube Deep Q-Learning](https://arxiv.org/pdf/1509.06461.pdf). See the [README](https://github.com/bobflagg/Deep-Q-Learning-for-Navigation/blob/master/README.md) for instructions on how to setup your environment to run the code here.  \n",
    "\n",
    "\n",
    "<img src=\"doc/images/dueling-dqn.png\" alt=\"Deep Q-Network\" style=\"margin-left: 140px;; margin-right: 100px;\" />\n",
    "\n",
    "\n",
    "The architecture of the Q-network in dueling deep Q-learning has two streams, one, with paraameters $\\theta, \\alpha$, estimates the state-value function:\n",
    "$$V(s) = \\mathbb{E}\\big[Q(s,A_t)\\big]$$\n",
    "and the other, with paraameters $\\theta, \\beta$,  estimates the expression \n",
    "$$A(s,a) - \\frac{1}{{\\cal |A|}}\\sum_{a'}A(s, a'),$$\n",
    "where \n",
    "$$A(s,a) = Q(s,a) - V(s).$$\n",
    "is the **advantage function**, which provides a relative measure of the importance of each action for a given state.\n",
    "\n",
    "The estimate of the action-value function is then\n",
    "$$Q(s,a|\\theta, \\alpha, \\beta) = V(s|\\theta, \\beta) - \\big(A(s,a|\\theta, \\alpha) - \\frac{1}{{\\cal |A|}}\\sum_{a'}A(s, a'|\\theta, \\alpha)\\big).$$\n",
    "\n",
    "As in the figure above illustrates and the implementation below demonstrates, the two streams in a **DuelingQNetwork** share some weights, $\\theta$, but have separate heads with independent parameters, $\\alpha$ and $\\beta$.  I don't use convolution in the network for the Unity ML-Agent Banana Collector so the shared $\\theta$ parameters in this example are for a couple of simple fully connected linear layers."
   ]
  },
  {
   "cell_type": "code",
   "execution_count": 1,
   "metadata": {},
   "outputs": [],
   "source": [
    "import torch\n",
    "import torch.nn as nn\n",
    "import torch.nn.functional as F\n",
    "\n",
    "class DuelingQNetwork(nn.Module):\n",
    "    \n",
    "    def __init__(\n",
    "        self, \n",
    "        state_size, \n",
    "        action_size, \n",
    "        seed=0, \n",
    "        fc1_units=64, \n",
    "        fc2_units=64,\n",
    "        adv_fc_units=64, \n",
    "        val_fc_units=64, \n",
    "    ):\n",
    "\n",
    "        super(DuelingQNetwork, self).__init__()\n",
    "        \n",
    "        self.state_size = state_size\n",
    "        self.action_size = action_size\n",
    "        \n",
    "        self.fc1 = nn.Linear(state_size, fc1_units)\n",
    "        self.fc2 = nn.Linear(fc1_units, fc2_units)\n",
    "\n",
    "        self.adv_fc1 = nn.Linear(fc2_units, adv_fc_units)\n",
    "        self.adv_fc2 = nn.Linear(adv_fc_units, action_size)\n",
    "\n",
    "        #self.adv_fc1 = nn.Linear(fc2_units, action_size)\n",
    "\n",
    "\n",
    "        self.val_fc1 = nn.Linear(fc2_units, val_fc_units)\n",
    "        self.val_fc2 = nn.Linear(val_fc_units, 1)\n",
    "        #self.val_fc1 = nn.Linear(fc2_units, 1)\n",
    "        \n",
    "        \n",
    "    def forward(self, state):\n",
    "        x = F.relu(self.fc1(state))\n",
    "        x = F.relu(self.fc2(x))\n",
    "        \n",
    "        adv = F.relu(self.adv_fc1(x))\n",
    "        adv = self.adv_fc2(adv)\n",
    "\n",
    "        val = F.relu(self.val_fc1(x))\n",
    "        val = self.val_fc2(val)\n",
    "\n",
    "        return val + adv - adv.mean()\n"
   ]
  },
  {
   "cell_type": "markdown",
   "metadata": {},
   "source": [
    "The changes requred to the DQN agent are minor: I just need to use dueling Q-networds for the local and target networks."
   ]
  },
  {
   "cell_type": "code",
   "execution_count": 2,
   "metadata": {},
   "outputs": [],
   "source": [
    "from dqn_agent import Agent, BUFFER_SIZE, BATCH_SIZE, LR, ReplayBuffer\n",
    "import random\n",
    "import torch.optim as optim\n",
    "\n",
    "device = torch.device(\"cuda:0\" if torch.cuda.is_available() else \"cpu\")\n",
    "\n",
    "class DuelingAgent(Agent):\n",
    "    \"\"\"Interacts with and learns from the environment.\"\"\"\n",
    "\n",
    "    def __init__(self, state_size, action_size, seed):\n",
    "        \"\"\"Initialize an Agent object.\n",
    "        \n",
    "        Params\n",
    "        ======\n",
    "            state_size (int): dimension of each state\n",
    "            action_size (int): dimension of each action\n",
    "            seed (int): random seed\n",
    "        \"\"\"\n",
    "        self.state_size = state_size\n",
    "        self.action_size = action_size\n",
    "        self.seed = random.seed(seed)\n",
    "\n",
    "        # Q-Network\n",
    "        self.qnetwork_local = DuelingQNetwork(state_size, action_size, seed).to(device)\n",
    "        self.qnetwork_target = DuelingQNetwork(state_size, action_size, seed).to(device)\n",
    "        self.optimizer = optim.Adam(self.qnetwork_local.parameters(), lr=LR)\n",
    "\n",
    "        # Replay memory\n",
    "        self.memory = ReplayBuffer(action_size, BUFFER_SIZE, BATCH_SIZE, seed)\n",
    "        # Initialize time step (for updating every UPDATE_EVERY steps)\n",
    "        self.t_step = 0\n",
    "\n"
   ]
  },
  {
   "cell_type": "markdown",
   "metadata": {},
   "source": [
    "## Dueling Deep Q-Learning"
   ]
  },
  {
   "cell_type": "code",
   "execution_count": 3,
   "metadata": {},
   "outputs": [],
   "source": [
    "from trainer import train\n",
    "from unityagents import UnityEnvironment"
   ]
  },
  {
   "cell_type": "code",
   "execution_count": 4,
   "metadata": {},
   "outputs": [
    {
     "name": "stderr",
     "output_type": "stream",
     "text": [
      "INFO:unityagents:\n",
      "'Academy' started successfully!\n",
      "Unity Academy name: Academy\n",
      "        Number of Brains: 1\n",
      "        Number of External Brains : 1\n",
      "        Lesson number : 0\n",
      "        Reset Parameters :\n",
      "\t\t\n",
      "Unity brain name: BananaBrain\n",
      "        Number of Visual Observations (per agent): 0\n",
      "        Vector Observation space type: continuous\n",
      "        Vector Observation space size (per agent): 37\n",
      "        Number of stacked Vector Observation: 1\n",
      "        Vector Action space type: discrete\n",
      "        Vector Action space size (per agent): 4\n",
      "        Vector Action descriptions: , , , \n"
     ]
    },
    {
     "name": "stdout",
     "output_type": "stream",
     "text": [
      "Episode 100\tAverage Score: 0.18\n",
      "Episode 200\tAverage Score: 2.62\n",
      "Episode 300\tAverage Score: 6.69\n",
      "Episode 400\tAverage Score: 9.74\n",
      "Episode 500\tAverage Score: 12.28\n",
      "Episode 517\tAverage Score: 13.01\n",
      "Environment solved in 417 episodes!\tAverage Score: 13.01\n"
     ]
    },
    {
     "data": {
      "image/png": "[encoded data removed]",
      "text/plain": [
       "<Figure size 432x288 with 1 Axes>"
      ]
     },
     "metadata": {
      "needs_background": "light"
     },
     "output_type": "display_data"
    },
    {
     "name": "stdout",
     "output_type": "stream",
     "text": [
      "CPU times: user 4min 11s, sys: 23.2 s, total: 4min 35s\n",
      "Wall time: 8min 30s\n"
     ]
    }
   ],
   "source": [
    "%%time\n",
    "import matplotlib.pyplot as plt\n",
    "%matplotlib inline  \n",
    "\n",
    "\n",
    "env = UnityEnvironment(file_name=\"./data/Banana.app\")\n",
    "agent = DuelingAgent(state_size=37, action_size=4, seed=0)\n",
    "scores = train(env, agent)"
   ]
  },
  {
   "cell_type": "markdown",
   "metadata": {},
   "source": [
    "So the [Unity ML Banana-Collector environment](https://github.com/Unity-Technologies/ml-agents/blob/master/docs/Learning-Environment-Examples.md#banana-collector)\n",
    "was solved in 417 episodes. \n",
    "\n",
    "I'll save the weights of the local network of this successful agent to the file dueling-dqn-model-weights.pth."
   ]
  },
  {
   "cell_type": "code",
   "execution_count": 5,
   "metadata": {},
   "outputs": [],
   "source": [
    "torch.save(agent.qnetwork_local.state_dict(), 'dueling-dqn-model-weights.pth')"
   ]
  },
  {
   "cell_type": "code",
   "execution_count": null,
   "metadata": {},
   "outputs": [],
   "source": []
  }
 ],
 "metadata": {
  "kernelspec": {
   "display_name": "drlnd",
   "language": "python",
   "name": "drlnd"
  },
  "language_info": {
   "codemirror_mode": {
    "name": "ipython",
    "version": 3
   },
   "file_extension": ".py",
   "mimetype": "text/x-python",
   "name": "python",
   "nbconvert_exporter": "python",
   "pygments_lexer": "ipython3",
   "version": "3.6.7"
  }
 },
 "nbformat": 4,
 "nbformat_minor": 2
}
