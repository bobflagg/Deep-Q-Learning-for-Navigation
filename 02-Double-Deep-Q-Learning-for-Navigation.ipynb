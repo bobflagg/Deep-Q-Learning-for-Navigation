{
 "cells": [
  {
   "cell_type": "markdown",
   "metadata": {},
   "source": [
    "# 2. Double Deep Q-Learning for Navigation\n",
    "---\n",
    "\n",
    "In the notebook [Deep Q-Learning for Navigation](https://nbviewer.jupyter.org/github/bobflagg/Deep-Q-Learning-for-Navigation/blob/master/01-Deep-Q-Learning-for-Navigation.ipynb) I solved the [Unity ML Banana-Collector environment](https://github.com/Unity-Technologies/ml-agents/blob/master/docs/Learning-Environment-Examples.md#banana-collector), using [Deep Q-Learning](https://arxiv.org/pdf/1509.06461.pdf). In \n",
    "this notebook I will give a second solution using [Doube Deep Q-Learning](https://arxiv.org/pdf/1509.06461.pdf). See the [README](https://github.com/bobflagg/Deep-Q-Learning-for-Navigation/blob/master/README.md) for instructions on how to setup your environment to run the code here.  \n",
    "\n",
    "In Q-learning and deep Q-learning, the max operator in the loss function uses the same values to both select and evaluate an action. \n",
    "This can lead to over optimistic value estimates.  **Double deep Q-learning** mitigates this problem by using a different target:\n",
    "\n",
    "$$ y^{DDQN}=R_t+\\gamma\\cdot Q(S_{t+1},  \\operatorname{arg\\,max}_{a'} Q(S_{t+1}, a'|\\theta)|\\theta^-).$$\n",
    "\n",
    "Implementing this change requires only a minor tweak to the learn method of the agent we defined in the previous notebook which I've saved in a python [module](https://github.com/bobflagg/Deep-Q-Learning-for-Navigation/blob/master/dqn_agent.py) so I can subclass it and override the learn method as below.  "
   ]
  },
  {
   "cell_type": "code",
   "execution_count": 1,
   "metadata": {},
   "outputs": [],
   "source": [
    "from dqn_agent import Agent, TAU\n",
    "\n",
    "class DoubleQAgent(Agent):\n",
    "    \n",
    "    def learn(self, experiences, gamma):\n",
    "        \"\"\"Update value parameters using given batch of experience tuples.\n",
    "\n",
    "        Params\n",
    "        ======\n",
    "            experiences (Tuple[torch.Tensor]): tuple of (s, a, r, s', done) tuples \n",
    "            gamma (float): discount factor\n",
    "        \"\"\"\n",
    "        states, actions, rewards, next_states, dones = experiences\n",
    "\n",
    "        # Get predicted actions for next states from local model\n",
    "        next_actions = self.qnetwork_local(next_states).detach().argmax(1).unsqueeze(1)\n",
    "        Q_targets_next = self.qnetwork_target(next_states).gather(1, next_actions)\n",
    "\n",
    "        # Compute Q targets for current states \n",
    "        Q_targets = rewards + (gamma * Q_targets_next * (1 - dones))\n",
    "\n",
    "        # Get expected Q values from local model\n",
    "        Q_expected = self.qnetwork_local(states).gather(1, actions)\n",
    "\n",
    "\n",
    "        # Get expected Q values from local model\n",
    "        Q_expected = self.qnetwork_local(states).gather(1, actions)\n",
    "\n",
    "        # Compute loss\n",
    "        loss = F.mse_loss(Q_expected, Q_targets)\n",
    "        # Minimize the loss\n",
    "        self.optimizer.zero_grad()\n",
    "        loss.backward()\n",
    "        self.optimizer.step()\n",
    "\n",
    "        # ------------------- update target network ------------------- #\n",
    "        self.soft_update(self.qnetwork_local, self.qnetwork_target, TAU)                     \n",
    "\n"
   ]
  },
  {
   "cell_type": "markdown",
   "metadata": {},
   "source": [
    "Since training for double deep Q-learning is the same as that for deep Q-learning, I won't repeat that code in this notebook but just import it from the\n",
    "[trainer.py module](https://github.com/bobflagg/Deep-Q-Learning-for-Navigation/blob/master/trainer.py) where I've saved it earlier."
   ]
  },
  {
   "cell_type": "code",
   "execution_count": 2,
   "metadata": {},
   "outputs": [
    {
     "name": "stderr",
     "output_type": "stream",
     "text": [
      "INFO:unityagents:\n",
      "'Academy' started successfully!\n",
      "Unity Academy name: Academy\n",
      "        Number of Brains: 1\n",
      "        Number of External Brains : 1\n",
      "        Lesson number : 0\n",
      "        Reset Parameters :\n",
      "\t\t\n",
      "Unity brain name: BananaBrain\n",
      "        Number of Visual Observations (per agent): 0\n",
      "        Vector Observation space type: continuous\n",
      "        Vector Observation space size (per agent): 37\n",
      "        Number of stacked Vector Observation: 1\n",
      "        Vector Action space type: discrete\n",
      "        Vector Action space size (per agent): 4\n",
      "        Vector Action descriptions: , , , \n"
     ]
    },
    {
     "name": "stdout",
     "output_type": "stream",
     "text": [
      "Episode 100\tAverage Score: 0.22\n",
      "Episode 200\tAverage Score: 2.56\n",
      "Episode 300\tAverage Score: 7.68\n",
      "Episode 400\tAverage Score: 10.49\n",
      "Episode 500\tAverage Score: 12.77\n",
      "Episode 531\tAverage Score: 13.06\n",
      "Environment solved in 431 episodes!\tAverage Score: 13.06\n"
     ]
    },
    {
     "data": {
      "image/png": "[encoded data removed]",
      "text/plain": [
       "<Figure size 432x288 with 1 Axes>"
      ]
     },
     "metadata": {
      "needs_background": "light"
     },
     "output_type": "display_data"
    },
    {
     "name": "stdout",
     "output_type": "stream",
     "text": [
      "CPU times: user 4min 4s, sys: 26.6 s, total: 4min 31s\n",
      "Wall time: 8min 50s\n"
     ]
    }
   ],
   "source": [
    "%%time\n",
    "import matplotlib.pyplot as plt\n",
    "%matplotlib inline  \n",
    "\n",
    "import torch.nn.functional as F\n",
    "from trainer import train\n",
    "from unityagents import UnityEnvironment\n",
    "\n",
    "\n",
    "env = UnityEnvironment(file_name=\"./data/Banana.app\")\n",
    "agent = DoubleQAgent(state_size=37, action_size=4, seed=0)\n",
    "scores = train(env, agent)"
   ]
  },
  {
   "cell_type": "markdown",
   "metadata": {},
   "source": [
    "Again the [Unity ML Banana-Collector environment](https://github.com/Unity-Technologies/ml-agents/blob/master/docs/Learning-Environment-Examples.md#banana-collector) was solved in under 431 episodes. I'm not really seeing an improvement over simple Deep Q-Learning.  Maybe this environment is too simple to demonstrate that? There does seem to be less variance in this plot so maybe Double Deep Q-Learning is doing better than vanilla Deep Q-Learning on this task, after all. \n",
    "\n",
    "I'll save the weights of the local network of this successful agent to the file double-dqn-model-weights.pth."
   ]
  },
  {
   "cell_type": "code",
   "execution_count": 5,
   "metadata": {},
   "outputs": [],
   "source": [
    "import torch\n",
    "torch.save(agent.qnetwork_local.state_dict(), 'double-dqn-model-weights.pth')"
   ]
  },
  {
   "cell_type": "code",
   "execution_count": null,
   "metadata": {},
   "outputs": [],
   "source": []
  }
 ],
 "metadata": {
  "kernelspec": {
   "display_name": "drlnd",
   "language": "python",
   "name": "drlnd"
  },
  "language_info": {
   "codemirror_mode": {
    "name": "ipython",
    "version": 3
   },
   "file_extension": ".py",
   "mimetype": "text/x-python",
   "name": "python",
   "nbconvert_exporter": "python",
   "pygments_lexer": "ipython3",
   "version": "3.6.7"
  }
 },
 "nbformat": 4,
 "nbformat_minor": 2
}
